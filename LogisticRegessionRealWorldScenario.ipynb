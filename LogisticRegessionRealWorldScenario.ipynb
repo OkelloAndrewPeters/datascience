{
  "cells": [
    {
      "cell_type": "markdown",
      "metadata": {
        "id": "view-in-github",
        "colab_type": "text"
      },
      "source": [
        "<a href=\"https://colab.research.google.com/github/OkelloAndrewPeters/datascience/blob/main/LogisticRegessionRealWorldScenario.ipynb\" target=\"_parent\"><img src=\"https://colab.research.google.com/assets/colab-badge.svg\" alt=\"Open In Colab\"/></a>"
      ]
    },
    {
      "cell_type": "code",
      "execution_count": null,
      "id": "2badd954-a00d-48ab-b6b0-2b4152660366",
      "metadata": {
        "id": "2badd954-a00d-48ab-b6b0-2b4152660366",
        "outputId": "7d8fad5f-b0e9-4939-e107-5eca9a15152b"
      },
      "outputs": [
        {
          "data": {
            "text/html": [
              "<div>\n",
              "<style scoped>\n",
              "    .dataframe tbody tr th:only-of-type {\n",
              "        vertical-align: middle;\n",
              "    }\n",
              "\n",
              "    .dataframe tbody tr th {\n",
              "        vertical-align: top;\n",
              "    }\n",
              "\n",
              "    .dataframe thead th {\n",
              "        text-align: right;\n",
              "    }\n",
              "</style>\n",
              "<table border=\"1\" class=\"dataframe\">\n",
              "  <thead>\n",
              "    <tr style=\"text-align: right;\">\n",
              "      <th></th>\n",
              "      <th>id</th>\n",
              "      <th>gender</th>\n",
              "      <th>age</th>\n",
              "      <th>hypertension</th>\n",
              "      <th>heart_disease</th>\n",
              "      <th>ever_married</th>\n",
              "      <th>work_type</th>\n",
              "      <th>Residence_type</th>\n",
              "      <th>avg_glucose_level</th>\n",
              "      <th>bmi</th>\n",
              "      <th>smoking_status</th>\n",
              "      <th>stroke</th>\n",
              "    </tr>\n",
              "  </thead>\n",
              "  <tbody>\n",
              "    <tr>\n",
              "      <th>0</th>\n",
              "      <td>9046</td>\n",
              "      <td>Male</td>\n",
              "      <td>67.0</td>\n",
              "      <td>0</td>\n",
              "      <td>1</td>\n",
              "      <td>Yes</td>\n",
              "      <td>Private</td>\n",
              "      <td>Urban</td>\n",
              "      <td>228.69</td>\n",
              "      <td>36.6</td>\n",
              "      <td>formerly smoked</td>\n",
              "      <td>1</td>\n",
              "    </tr>\n",
              "    <tr>\n",
              "      <th>1</th>\n",
              "      <td>51676</td>\n",
              "      <td>Female</td>\n",
              "      <td>61.0</td>\n",
              "      <td>0</td>\n",
              "      <td>0</td>\n",
              "      <td>Yes</td>\n",
              "      <td>Self-employed</td>\n",
              "      <td>Rural</td>\n",
              "      <td>202.21</td>\n",
              "      <td>NaN</td>\n",
              "      <td>never smoked</td>\n",
              "      <td>1</td>\n",
              "    </tr>\n",
              "    <tr>\n",
              "      <th>2</th>\n",
              "      <td>31112</td>\n",
              "      <td>Male</td>\n",
              "      <td>80.0</td>\n",
              "      <td>0</td>\n",
              "      <td>1</td>\n",
              "      <td>Yes</td>\n",
              "      <td>Private</td>\n",
              "      <td>Rural</td>\n",
              "      <td>105.92</td>\n",
              "      <td>32.5</td>\n",
              "      <td>never smoked</td>\n",
              "      <td>1</td>\n",
              "    </tr>\n",
              "    <tr>\n",
              "      <th>3</th>\n",
              "      <td>60182</td>\n",
              "      <td>Female</td>\n",
              "      <td>49.0</td>\n",
              "      <td>0</td>\n",
              "      <td>0</td>\n",
              "      <td>Yes</td>\n",
              "      <td>Private</td>\n",
              "      <td>Urban</td>\n",
              "      <td>171.23</td>\n",
              "      <td>34.4</td>\n",
              "      <td>smokes</td>\n",
              "      <td>1</td>\n",
              "    </tr>\n",
              "    <tr>\n",
              "      <th>4</th>\n",
              "      <td>1665</td>\n",
              "      <td>Female</td>\n",
              "      <td>79.0</td>\n",
              "      <td>1</td>\n",
              "      <td>0</td>\n",
              "      <td>Yes</td>\n",
              "      <td>Self-employed</td>\n",
              "      <td>Rural</td>\n",
              "      <td>174.12</td>\n",
              "      <td>24.0</td>\n",
              "      <td>never smoked</td>\n",
              "      <td>1</td>\n",
              "    </tr>\n",
              "  </tbody>\n",
              "</table>\n",
              "</div>"
            ],
            "text/plain": [
              "      id  gender   age  hypertension  heart_disease ever_married  \\\n",
              "0   9046    Male  67.0             0              1          Yes   \n",
              "1  51676  Female  61.0             0              0          Yes   \n",
              "2  31112    Male  80.0             0              1          Yes   \n",
              "3  60182  Female  49.0             0              0          Yes   \n",
              "4   1665  Female  79.0             1              0          Yes   \n",
              "\n",
              "       work_type Residence_type  avg_glucose_level   bmi   smoking_status  \\\n",
              "0        Private          Urban             228.69  36.6  formerly smoked   \n",
              "1  Self-employed          Rural             202.21   NaN     never smoked   \n",
              "2        Private          Rural             105.92  32.5     never smoked   \n",
              "3        Private          Urban             171.23  34.4           smokes   \n",
              "4  Self-employed          Rural             174.12  24.0     never smoked   \n",
              "\n",
              "   stroke  \n",
              "0       1  \n",
              "1       1  \n",
              "2       1  \n",
              "3       1  \n",
              "4       1  "
            ]
          },
          "execution_count": 1,
          "metadata": {},
          "output_type": "execute_result"
        }
      ],
      "source": [
        "#binary classification of the probability of person to have a stroke or not given the health data\n",
        "#importing basic models\n",
        "\n",
        "import pandas as pd\n",
        "import numpy as np\n",
        "import matplotlib.pyplot as plt\n",
        "healthcare-dataset-stroke-data.csv\n",
        "#reading the data\n",
        "health_data = pd.read_csv(\"https://raw.githubusercontent.com/OkelloAndrewPeters/datascience/main/healthcare-dataset-stroke-data.csv\")\n",
        "\n",
        "#viewing the data\n",
        "health_data.head()"
      ]
    },
    {
      "cell_type": "code",
      "execution_count": null,
      "id": "ec462b9f-5ddc-441d-a66f-70cd72458ed4",
      "metadata": {
        "id": "ec462b9f-5ddc-441d-a66f-70cd72458ed4",
        "outputId": "2ebc9356-6787-4ec6-9da1-763a29ebee0a"
      },
      "outputs": [
        {
          "data": {
            "text/plain": [
              "(5110, 12)"
            ]
          },
          "execution_count": 2,
          "metadata": {},
          "output_type": "execute_result"
        }
      ],
      "source": [
        "#viewing the shape\n",
        "health_data.shape"
      ]
    },
    {
      "cell_type": "code",
      "execution_count": null,
      "id": "8794351b-e57b-419f-b433-3839c971dfa5",
      "metadata": {
        "id": "8794351b-e57b-419f-b433-3839c971dfa5",
        "outputId": "44994495-dfcb-43db-d9f1-e755c58eaf64"
      },
      "outputs": [
        {
          "data": {
            "text/plain": [
              "id                     int64\n",
              "gender                object\n",
              "age                  float64\n",
              "hypertension           int64\n",
              "heart_disease          int64\n",
              "ever_married          object\n",
              "work_type             object\n",
              "Residence_type        object\n",
              "avg_glucose_level    float64\n",
              "bmi                  float64\n",
              "smoking_status        object\n",
              "stroke                 int64\n",
              "dtype: object"
            ]
          },
          "execution_count": 3,
          "metadata": {},
          "output_type": "execute_result"
        }
      ],
      "source": [
        "#checking the column data types\n",
        "health_data.dtypes"
      ]
    },
    {
      "cell_type": "code",
      "execution_count": null,
      "id": "63c16025-7509-4e08-b518-254899e53012",
      "metadata": {
        "id": "63c16025-7509-4e08-b518-254899e53012",
        "outputId": "173cda43-573e-4e8b-e86d-37143ce08c5c"
      },
      "outputs": [
        {
          "name": "stdout",
          "output_type": "stream",
          "text": [
            "Unique values in hypertension are [0, 1]\n",
            "Unique values in heart_disease are [1, 0]\n",
            "Unique values in stroke are [1, 0]\n"
          ]
        }
      ],
      "source": [
        "#checking unique values for a few numeric features\n",
        "#to check whether their values are either numerical or categorical in nature\n",
        "\n",
        "for i in ['hypertension','heart_disease', 'stroke']:\n",
        "    print('Unique values in {} are {}'.\\\n",
        "         format(i, health_data[i].unique().tolist()))"
      ]
    },
    {
      "cell_type": "code",
      "execution_count": null,
      "id": "6b38bdc4-edfa-4263-8ccf-6b97f8f4a09b",
      "metadata": {
        "id": "6b38bdc4-edfa-4263-8ccf-6b97f8f4a09b"
      },
      "outputs": [],
      "source": [
        "#calculating summary statistics\n",
        "\n",
        "#creating summary statistics using describe\n",
        "desc_stats = health_data.describe().T"
      ]
    },
    {
      "cell_type": "code",
      "execution_count": null,
      "id": "c650cf12-ec2f-4351-8e58-3a55e1c6369a",
      "metadata": {
        "id": "c650cf12-ec2f-4351-8e58-3a55e1c6369a",
        "outputId": "67cfdc59-b4a0-421e-f6db-2b8cee63c863"
      },
      "outputs": [
        {
          "data": {
            "text/html": [
              "<div>\n",
              "<style scoped>\n",
              "    .dataframe tbody tr th:only-of-type {\n",
              "        vertical-align: middle;\n",
              "    }\n",
              "\n",
              "    .dataframe tbody tr th {\n",
              "        vertical-align: top;\n",
              "    }\n",
              "\n",
              "    .dataframe thead th {\n",
              "        text-align: right;\n",
              "    }\n",
              "</style>\n",
              "<table border=\"1\" class=\"dataframe\">\n",
              "  <thead>\n",
              "    <tr style=\"text-align: right;\">\n",
              "      <th></th>\n",
              "      <th>count</th>\n",
              "      <th>mean</th>\n",
              "      <th>std</th>\n",
              "      <th>min</th>\n",
              "      <th>25%</th>\n",
              "      <th>50%</th>\n",
              "      <th>75%</th>\n",
              "      <th>max</th>\n",
              "      <th>coef_of_variation</th>\n",
              "    </tr>\n",
              "  </thead>\n",
              "  <tbody>\n",
              "    <tr>\n",
              "      <th>id</th>\n",
              "      <td>5110.0</td>\n",
              "      <td>36517.829354</td>\n",
              "      <td>21161.721625</td>\n",
              "      <td>67.00</td>\n",
              "      <td>17741.250</td>\n",
              "      <td>36932.000</td>\n",
              "      <td>54682.00</td>\n",
              "      <td>72940.00</td>\n",
              "      <td>0.579490</td>\n",
              "    </tr>\n",
              "    <tr>\n",
              "      <th>age</th>\n",
              "      <td>5110.0</td>\n",
              "      <td>43.226614</td>\n",
              "      <td>22.612647</td>\n",
              "      <td>0.08</td>\n",
              "      <td>25.000</td>\n",
              "      <td>45.000</td>\n",
              "      <td>61.00</td>\n",
              "      <td>82.00</td>\n",
              "      <td>0.523119</td>\n",
              "    </tr>\n",
              "    <tr>\n",
              "      <th>hypertension</th>\n",
              "      <td>5110.0</td>\n",
              "      <td>0.097456</td>\n",
              "      <td>0.296607</td>\n",
              "      <td>0.00</td>\n",
              "      <td>0.000</td>\n",
              "      <td>0.000</td>\n",
              "      <td>0.00</td>\n",
              "      <td>1.00</td>\n",
              "      <td>3.043494</td>\n",
              "    </tr>\n",
              "    <tr>\n",
              "      <th>heart_disease</th>\n",
              "      <td>5110.0</td>\n",
              "      <td>0.054012</td>\n",
              "      <td>0.226063</td>\n",
              "      <td>0.00</td>\n",
              "      <td>0.000</td>\n",
              "      <td>0.000</td>\n",
              "      <td>0.00</td>\n",
              "      <td>1.00</td>\n",
              "      <td>4.185442</td>\n",
              "    </tr>\n",
              "    <tr>\n",
              "      <th>avg_glucose_level</th>\n",
              "      <td>5110.0</td>\n",
              "      <td>106.147677</td>\n",
              "      <td>45.283560</td>\n",
              "      <td>55.12</td>\n",
              "      <td>77.245</td>\n",
              "      <td>91.885</td>\n",
              "      <td>114.09</td>\n",
              "      <td>271.74</td>\n",
              "      <td>0.426609</td>\n",
              "    </tr>\n",
              "    <tr>\n",
              "      <th>bmi</th>\n",
              "      <td>4909.0</td>\n",
              "      <td>28.893237</td>\n",
              "      <td>7.854067</td>\n",
              "      <td>10.30</td>\n",
              "      <td>23.500</td>\n",
              "      <td>28.100</td>\n",
              "      <td>33.10</td>\n",
              "      <td>97.60</td>\n",
              "      <td>0.271831</td>\n",
              "    </tr>\n",
              "    <tr>\n",
              "      <th>stroke</th>\n",
              "      <td>5110.0</td>\n",
              "      <td>0.048728</td>\n",
              "      <td>0.215320</td>\n",
              "      <td>0.00</td>\n",
              "      <td>0.000</td>\n",
              "      <td>0.000</td>\n",
              "      <td>0.00</td>\n",
              "      <td>1.00</td>\n",
              "      <td>4.418813</td>\n",
              "    </tr>\n",
              "  </tbody>\n",
              "</table>\n",
              "</div>"
            ],
            "text/plain": [
              "                    count          mean           std    min        25%  \\\n",
              "id                 5110.0  36517.829354  21161.721625  67.00  17741.250   \n",
              "age                5110.0     43.226614     22.612647   0.08     25.000   \n",
              "hypertension       5110.0      0.097456      0.296607   0.00      0.000   \n",
              "heart_disease      5110.0      0.054012      0.226063   0.00      0.000   \n",
              "avg_glucose_level  5110.0    106.147677     45.283560  55.12     77.245   \n",
              "bmi                4909.0     28.893237      7.854067  10.30     23.500   \n",
              "stroke             5110.0      0.048728      0.215320   0.00      0.000   \n",
              "\n",
              "                         50%       75%       max  coef_of_variation  \n",
              "id                 36932.000  54682.00  72940.00           0.579490  \n",
              "age                   45.000     61.00     82.00           0.523119  \n",
              "hypertension           0.000      0.00      1.00           3.043494  \n",
              "heart_disease          0.000      0.00      1.00           4.185442  \n",
              "avg_glucose_level     91.885    114.09    271.74           0.426609  \n",
              "bmi                   28.100     33.10     97.60           0.271831  \n",
              "stroke                 0.000      0.00      1.00           4.418813  "
            ]
          },
          "execution_count": 6,
          "metadata": {},
          "output_type": "execute_result"
        }
      ],
      "source": [
        "#calculating the coefficient of variation\n",
        "desc_stats['coef_of_variation'] = desc_stats['std'] / desc_stats['mean']\n",
        "desc_stats #No column has a coefficient of variation at or very close to 0, indicating ample variation in the data, which is good."
      ]
    },
    {
      "cell_type": "code",
      "execution_count": null,
      "id": "b9de2e73-003e-4c6f-97c0-cf8e90103bab",
      "metadata": {
        "id": "b9de2e73-003e-4c6f-97c0-cf8e90103bab"
      },
      "outputs": [],
      "source": [
        "#checking data balance\n",
        "#for classification, the dependent variable should have an equal number of classes but it's not case for problems\n",
        "#like heart disease, fraud, or spam detection.\n",
        "#accordingto this data, 95% of patient haven't had a stroke according to the stroke column and 5% have\n",
        "#which means we have imbalanced data\n"
      ]
    },
    {
      "cell_type": "code",
      "execution_count": null,
      "id": "463af6d7-8a82-47f7-b695-a030bdbfd35f",
      "metadata": {
        "id": "463af6d7-8a82-47f7-b695-a030bdbfd35f",
        "outputId": "958c7d72-4271-4ec9-d1e4-4a44c5617b3b"
      },
      "outputs": [
        {
          "data": {
            "text/plain": [
              "stroke\n",
              "0    95.127202\n",
              "1     4.872798\n",
              "Name: proportion, dtype: float64"
            ]
          },
          "execution_count": 8,
          "metadata": {},
          "output_type": "execute_result"
        }
      ],
      "source": [
        "#checking label balance\n",
        "health_data.stroke.value_counts(normalize = True)*100"
      ]
    },
    {
      "cell_type": "code",
      "execution_count": null,
      "id": "b5fdc1bd-3bf7-49b3-9f9b-74669ed9b690",
      "metadata": {
        "id": "b5fdc1bd-3bf7-49b3-9f9b-74669ed9b690"
      },
      "outputs": [],
      "source": [
        "#DATA CLEANING AND FEATURE ENGINEERING\n",
        "#drop reduntant variables like \"id\" for our case, it has no predictive property\n",
        "df = health_data.drop('id', axis = 1)"
      ]
    },
    {
      "cell_type": "code",
      "execution_count": null,
      "id": "b3e20e74-d62d-4cbf-a47c-2955e7092408",
      "metadata": {
        "id": "b3e20e74-d62d-4cbf-a47c-2955e7092408",
        "outputId": "5e59b828-77da-497d-9484-2767039b3d53"
      },
      "outputs": [
        {
          "data": {
            "text/plain": [
              "gender                 0\n",
              "age                    0\n",
              "hypertension           0\n",
              "heart_disease          0\n",
              "ever_married           0\n",
              "work_type              0\n",
              "Residence_type         0\n",
              "avg_glucose_level      0\n",
              "bmi                  201\n",
              "smoking_status         0\n",
              "stroke                 0\n",
              "dtype: int64"
            ]
          },
          "execution_count": 10,
          "metadata": {},
          "output_type": "execute_result"
        }
      ],
      "source": [
        "#checking for missing values\n",
        "df.isnull().sum()"
      ]
    },
    {
      "cell_type": "code",
      "execution_count": null,
      "id": "66fc88ff-4a17-4e97-a7f4-4656dad54d30",
      "metadata": {
        "id": "66fc88ff-4a17-4e97-a7f4-4656dad54d30"
      },
      "outputs": [],
      "source": [
        "#performing median value imputation\n",
        "df['bmi'] = df.bmi.fillna(df.bmi.median())"
      ]
    },
    {
      "cell_type": "code",
      "execution_count": null,
      "id": "e57ccd8c-fdf6-4de7-accb-c452a1218a69",
      "metadata": {
        "id": "e57ccd8c-fdf6-4de7-accb-c452a1218a69",
        "outputId": "5e6a18de-74bc-4903-9dff-065b8cb22f49"
      },
      "outputs": [
        {
          "data": {
            "text/plain": [
              "gender               0\n",
              "age                  0\n",
              "hypertension         0\n",
              "heart_disease        0\n",
              "ever_married         0\n",
              "work_type            0\n",
              "Residence_type       0\n",
              "avg_glucose_level    0\n",
              "bmi                  0\n",
              "smoking_status       0\n",
              "stroke               0\n",
              "dtype: int64"
            ]
          },
          "execution_count": 12,
          "metadata": {},
          "output_type": "execute_result"
        }
      ],
      "source": [
        "#re-checking for missing values\n",
        "df.isnull().sum()"
      ]
    },
    {
      "cell_type": "code",
      "execution_count": null,
      "id": "3a47730d-9c4e-46df-ac49-52820687364c",
      "metadata": {
        "id": "3a47730d-9c4e-46df-ac49-52820687364c",
        "outputId": "1d1dad1e-f172-4590-8d6e-470001231462"
      },
      "outputs": [
        {
          "data": {
            "text/plain": [
              "<Axes: >"
            ]
          },
          "execution_count": 13,
          "metadata": {},
          "output_type": "execute_result"
        },
        {
          "data": {
            "image/png": "[encoded data removed]",
            "text/plain": [
              "<Figure size 1700x500 with 1 Axes>"
            ]
          },
          "metadata": {},
          "output_type": "display_data"
        }
      ],
      "source": [
        "#identifying and capping outliers\n",
        "df.plot(kind ='box', figsize = (17, 5))"
      ]
    },
    {
      "cell_type": "code",
      "execution_count": null,
      "id": "bc840b61-6b74-4c42-b1d8-b31347290292",
      "metadata": {
        "id": "bc840b61-6b74-4c42-b1d8-b31347290292",
        "outputId": "f7ab551d-6fc1-4b90-9491-169863a8834b"
      },
      "outputs": [
        {
          "name": "stderr",
          "output_type": "stream",
          "text": [
            "C:\\Users\\Andrew Peters Okello\\AppData\\Local\\Temp\\ipykernel_9044\\1812640429.py:10: FutureWarning: A value is trying to be set on a copy of a DataFrame or Series through chained assignment using an inplace method.\n",
            "The behavior will change in pandas 3.0. This inplace method will never work because the intermediate object on which we are setting values always behaves as a copy.\n",
            "\n",
            "For example, when doing 'df[col].method(value, inplace=True)', try using 'df.method({col: value}, inplace=True)' or df[col] = df[col].method(value) instead, to perform the operation inplace on the original object.\n",
            "\n",
            "\n",
            "  df.avg_glucose_level.clip(upper = p90_avg_glucose_level, inplace = True)\n"
          ]
        }
      ],
      "source": [
        "\"\"\"\n",
        "From the box plot above;\n",
        "Both columns have upper outliers. As ‘avg_gulucose_level’ has extremely high outliers,\n",
        "we will use its 90th percentile to cap the outliers, whereas for ‘bmi’ where the outliers\n",
        "were relatively mild, we can cap them at the 99th percentile.\n",
        "\"\"\"\n",
        "\n",
        "#removing major outliers from avg_glucose_level column\n",
        "p90_avg_glucose_level = df.avg_glucose_level.quantile(0.90)\n",
        "df.avg_glucose_level.clip(upper = p90_avg_glucose_level, inplace = True)"
      ]
    },
    {
      "cell_type": "code",
      "execution_count": null,
      "id": "f27d0831-df56-46de-9b2f-1fd3391e8a35",
      "metadata": {
        "id": "f27d0831-df56-46de-9b2f-1fd3391e8a35",
        "outputId": "89c8b5e1-0317-4a73-a98d-8cd3d6f17d42"
      },
      "outputs": [
        {
          "name": "stderr",
          "output_type": "stream",
          "text": [
            "C:\\Users\\Andrew Peters Okello\\AppData\\Local\\Temp\\ipykernel_9044\\1604544479.py:3: FutureWarning: A value is trying to be set on a copy of a DataFrame or Series through chained assignment using an inplace method.\n",
            "The behavior will change in pandas 3.0. This inplace method will never work because the intermediate object on which we are setting values always behaves as a copy.\n",
            "\n",
            "For example, when doing 'df[col].method(value, inplace=True)', try using 'df.method({col: value}, inplace=True)' or df[col] = df[col].method(value) instead, to perform the operation inplace on the original object.\n",
            "\n",
            "\n",
            "  df.bmi.clip(upper = p99_bmi, inplace = True)\n"
          ]
        }
      ],
      "source": [
        "#removing majoy outliers from bmi\n",
        "p99_bmi = df.bmi.quantile(0.99)\n",
        "df.bmi.clip(upper = p99_bmi, inplace = True)"
      ]
    },
    {
      "cell_type": "code",
      "execution_count": null,
      "id": "bec66011-80b1-4e18-b995-931ee9e04478",
      "metadata": {
        "id": "bec66011-80b1-4e18-b995-931ee9e04478",
        "outputId": "a66e0e85-4693-441e-d190-7fee2d4e05c2"
      },
      "outputs": [
        {
          "data": {
            "text/plain": [
              "<Axes: >"
            ]
          },
          "execution_count": 16,
          "metadata": {},
          "output_type": "execute_result"
        },
        {
          "data": {
            "image/png": "[encoded data removed]",
            "text/plain": [
              "<Figure size 1700x500 with 1 Axes>"
            ]
          },
          "metadata": {},
          "output_type": "display_data"
        }
      ],
      "source": [
        "#ensuring that the majoy outliers are not there\n",
        "df.plot(kind = 'box', figsize = (17, 5))"
      ]
    },
    {
      "cell_type": "code",
      "execution_count": null,
      "id": "cf771835-bbb8-48bf-8857-0e3c2eb2d916",
      "metadata": {
        "id": "cf771835-bbb8-48bf-8857-0e3c2eb2d916"
      },
      "outputs": [],
      "source": [
        "#Encoding\n",
        "#extracting numerical data columns in separate dataframe\n",
        "num_dtype_cols = df.select_dtypes(include = [np.number]).columns.tolist()\n",
        "df_num = df[num_dtype_cols]"
      ]
    },
    {
      "cell_type": "code",
      "execution_count": null,
      "id": "8b1550c7-6902-413f-ae6f-b0a24076be5c",
      "metadata": {
        "id": "8b1550c7-6902-413f-ae6f-b0a24076be5c"
      },
      "outputs": [],
      "source": [
        "#extracting the object data type in a separate data frame\n",
        "object_dtype_cols = df.select_dtypes(exclude = [np.number]).columns.tolist()\n",
        "df_obj = df[object_dtype_cols]"
      ]
    },
    {
      "cell_type": "code",
      "execution_count": null,
      "id": "5ff87792-8b42-4878-bee7-3a35cfa4cc7e",
      "metadata": {
        "id": "5ff87792-8b42-4878-bee7-3a35cfa4cc7e",
        "outputId": "e9002e85-b653-481f-a6bf-2395a6243197"
      },
      "outputs": [
        {
          "data": {
            "text/html": [
              "<div>\n",
              "<style scoped>\n",
              "    .dataframe tbody tr th:only-of-type {\n",
              "        vertical-align: middle;\n",
              "    }\n",
              "\n",
              "    .dataframe tbody tr th {\n",
              "        vertical-align: top;\n",
              "    }\n",
              "\n",
              "    .dataframe thead th {\n",
              "        text-align: right;\n",
              "    }\n",
              "</style>\n",
              "<table border=\"1\" class=\"dataframe\">\n",
              "  <thead>\n",
              "    <tr style=\"text-align: right;\">\n",
              "      <th></th>\n",
              "      <th>gender</th>\n",
              "      <th>ever_married</th>\n",
              "      <th>work_type</th>\n",
              "      <th>Residence_type</th>\n",
              "      <th>smoking_status</th>\n",
              "    </tr>\n",
              "  </thead>\n",
              "  <tbody>\n",
              "    <tr>\n",
              "      <th>0</th>\n",
              "      <td>Male</td>\n",
              "      <td>Yes</td>\n",
              "      <td>Private</td>\n",
              "      <td>Urban</td>\n",
              "      <td>formerly smoked</td>\n",
              "    </tr>\n",
              "    <tr>\n",
              "      <th>1</th>\n",
              "      <td>Female</td>\n",
              "      <td>Yes</td>\n",
              "      <td>Self-employed</td>\n",
              "      <td>Rural</td>\n",
              "      <td>never smoked</td>\n",
              "    </tr>\n",
              "    <tr>\n",
              "      <th>2</th>\n",
              "      <td>Male</td>\n",
              "      <td>Yes</td>\n",
              "      <td>Private</td>\n",
              "      <td>Rural</td>\n",
              "      <td>never smoked</td>\n",
              "    </tr>\n",
              "    <tr>\n",
              "      <th>3</th>\n",
              "      <td>Female</td>\n",
              "      <td>Yes</td>\n",
              "      <td>Private</td>\n",
              "      <td>Urban</td>\n",
              "      <td>smokes</td>\n",
              "    </tr>\n",
              "    <tr>\n",
              "      <th>4</th>\n",
              "      <td>Female</td>\n",
              "      <td>Yes</td>\n",
              "      <td>Self-employed</td>\n",
              "      <td>Rural</td>\n",
              "      <td>never smoked</td>\n",
              "    </tr>\n",
              "    <tr>\n",
              "      <th>...</th>\n",
              "      <td>...</td>\n",
              "      <td>...</td>\n",
              "      <td>...</td>\n",
              "      <td>...</td>\n",
              "      <td>...</td>\n",
              "    </tr>\n",
              "    <tr>\n",
              "      <th>5105</th>\n",
              "      <td>Female</td>\n",
              "      <td>Yes</td>\n",
              "      <td>Private</td>\n",
              "      <td>Urban</td>\n",
              "      <td>never smoked</td>\n",
              "    </tr>\n",
              "    <tr>\n",
              "      <th>5106</th>\n",
              "      <td>Female</td>\n",
              "      <td>Yes</td>\n",
              "      <td>Self-employed</td>\n",
              "      <td>Urban</td>\n",
              "      <td>never smoked</td>\n",
              "    </tr>\n",
              "    <tr>\n",
              "      <th>5107</th>\n",
              "      <td>Female</td>\n",
              "      <td>Yes</td>\n",
              "      <td>Self-employed</td>\n",
              "      <td>Rural</td>\n",
              "      <td>never smoked</td>\n",
              "    </tr>\n",
              "    <tr>\n",
              "      <th>5108</th>\n",
              "      <td>Male</td>\n",
              "      <td>Yes</td>\n",
              "      <td>Private</td>\n",
              "      <td>Rural</td>\n",
              "      <td>formerly smoked</td>\n",
              "    </tr>\n",
              "    <tr>\n",
              "      <th>5109</th>\n",
              "      <td>Female</td>\n",
              "      <td>Yes</td>\n",
              "      <td>Govt_job</td>\n",
              "      <td>Urban</td>\n",
              "      <td>Unknown</td>\n",
              "    </tr>\n",
              "  </tbody>\n",
              "</table>\n",
              "<p>5110 rows × 5 columns</p>\n",
              "</div>"
            ],
            "text/plain": [
              "      gender ever_married      work_type Residence_type   smoking_status\n",
              "0       Male          Yes        Private          Urban  formerly smoked\n",
              "1     Female          Yes  Self-employed          Rural     never smoked\n",
              "2       Male          Yes        Private          Rural     never smoked\n",
              "3     Female          Yes        Private          Urban           smokes\n",
              "4     Female          Yes  Self-employed          Rural     never smoked\n",
              "...      ...          ...            ...            ...              ...\n",
              "5105  Female          Yes        Private          Urban     never smoked\n",
              "5106  Female          Yes  Self-employed          Urban     never smoked\n",
              "5107  Female          Yes  Self-employed          Rural     never smoked\n",
              "5108    Male          Yes        Private          Rural  formerly smoked\n",
              "5109  Female          Yes       Govt_job          Urban          Unknown\n",
              "\n",
              "[5110 rows x 5 columns]"
            ]
          },
          "execution_count": 19,
          "metadata": {},
          "output_type": "execute_result"
        }
      ],
      "source": [
        "df_obj #categorical data dataframe"
      ]
    },
    {
      "cell_type": "code",
      "execution_count": null,
      "id": "0fb823b6-1ccd-4b5b-95aa-4cfc61f6eeb1",
      "metadata": {
        "id": "0fb823b6-1ccd-4b5b-95aa-4cfc61f6eeb1",
        "outputId": "bc6979c2-0d99-4c03-9013-059a7301d8f8"
      },
      "outputs": [
        {
          "data": {
            "text/plain": [
              "'\\nWhile you are performing label encoding on all the columns, \\nthe proper way is to further separate this dataset into data with nominal categorical \\nvariables and others with ordinal categorical variables.\\nThe nominal variables should be encoded using one-hot encoding, and the ordinal should be encoded using label encoding.\\n'"
            ]
          },
          "execution_count": 20,
          "metadata": {},
          "output_type": "execute_result"
        }
      ],
      "source": [
        "#performing label encoding on all the columns\n",
        "\"\"\"\n",
        "While you are performing label encoding on all the columns,\n",
        "the proper way is to further separate this dataset into data with nominal categorical\n",
        "variables and others with ordinal categorical variables.\n",
        "The nominal variables should be encoded using one-hot encoding, and the ordinal should be encoded using label encoding.\n",
        "\"\"\""
      ]
    },
    {
      "cell_type": "code",
      "execution_count": null,
      "id": "f51a34e1-5914-4241-9274-7d33042ebfa4",
      "metadata": {
        "id": "f51a34e1-5914-4241-9274-7d33042ebfa4"
      },
      "outputs": [],
      "source": [
        "#Here, for simplicity, you can perform label encoding on all the categorical variables\n",
        "#lable encoding all columns with the data type \"object\"\n",
        "from sklearn.preprocessing import LabelEncoder\n",
        "df_obj = df_obj.apply(LabelEncoder().fit_transform)"
      ]
    },
    {
      "cell_type": "code",
      "execution_count": null,
      "id": "53c899e0-4c55-4982-9791-6d87ebf0a39a",
      "metadata": {
        "id": "53c899e0-4c55-4982-9791-6d87ebf0a39a"
      },
      "outputs": [],
      "source": [
        "#combining the dataframe back\n",
        "df = pd.concat([df_obj, df_num], axis = 1)"
      ]
    },
    {
      "cell_type": "code",
      "execution_count": null,
      "id": "2d5fb0d1-261c-4ab6-a2d4-49e131d52e30",
      "metadata": {
        "id": "2d5fb0d1-261c-4ab6-a2d4-49e131d52e30",
        "outputId": "d37ef7e3-134b-4dd6-dd99-3917034bfe94"
      },
      "outputs": [
        {
          "data": {
            "text/plain": [
              "gender                 int32\n",
              "ever_married           int32\n",
              "work_type              int32\n",
              "Residence_type         int32\n",
              "smoking_status         int32\n",
              "age                  float64\n",
              "hypertension           int64\n",
              "heart_disease          int64\n",
              "avg_glucose_level    float64\n",
              "bmi                  float64\n",
              "stroke                 int64\n",
              "dtype: object"
            ]
          },
          "execution_count": 23,
          "metadata": {},
          "output_type": "execute_result"
        }
      ],
      "source": [
        "#Ensuring all columns have numerical data types\n",
        "df.dtypes"
      ]
    },
    {
      "cell_type": "code",
      "execution_count": null,
      "id": "179b9fe8-a83e-4c9e-bb8c-327800b73e24",
      "metadata": {
        "id": "179b9fe8-a83e-4c9e-bb8c-327800b73e24",
        "outputId": "3696ba8d-bc41-4c80-8aeb-c4b52d6039c0"
      },
      "outputs": [
        {
          "data": {
            "text/html": [
              "<style>#sk-container-id-1 {\n",
              "  /* Definition of color scheme common for light and dark mode */\n",
              "  --sklearn-color-text: black;\n",
              "  --sklearn-color-line: gray;\n",
              "  /* Definition of color scheme for unfitted estimators */\n",
              "  --sklearn-color-unfitted-level-0: #fff5e6;\n",
              "  --sklearn-color-unfitted-level-1: #f6e4d2;\n",
              "  --sklearn-color-unfitted-level-2: #ffe0b3;\n",
              "  --sklearn-color-unfitted-level-3: chocolate;\n",
              "  /* Definition of color scheme for fitted estimators */\n",
              "  --sklearn-color-fitted-level-0: #f0f8ff;\n",
              "  --sklearn-color-fitted-level-1: #d4ebff;\n",
              "  --sklearn-color-fitted-level-2: #b3dbfd;\n",
              "  --sklearn-color-fitted-level-3: cornflowerblue;\n",
              "\n",
              "  /* Specific color for light theme */\n",
              "  --sklearn-color-text-on-default-background: var(--sg-text-color, var(--theme-code-foreground, var(--jp-content-font-color1, black)));\n",
              "  --sklearn-color-background: var(--sg-background-color, var(--theme-background, var(--jp-layout-color0, white)));\n",
              "  --sklearn-color-border-box: var(--sg-text-color, var(--theme-code-foreground, var(--jp-content-font-color1, black)));\n",
              "  --sklearn-color-icon: #696969;\n",
              "\n",
              "  @media (prefers-color-scheme: dark) {\n",
              "    /* Redefinition of color scheme for dark theme */\n",
              "    --sklearn-color-text-on-default-background: var(--sg-text-color, var(--theme-code-foreground, var(--jp-content-font-color1, white)));\n",
              "    --sklearn-color-background: var(--sg-background-color, var(--theme-background, var(--jp-layout-color0, #111)));\n",
              "    --sklearn-color-border-box: var(--sg-text-color, var(--theme-code-foreground, var(--jp-content-font-color1, white)));\n",
              "    --sklearn-color-icon: #878787;\n",
              "  }\n",
              "}\n",
              "\n",
              "#sk-container-id-1 {\n",
              "  color: var(--sklearn-color-text);\n",
              "}\n",
              "\n",
              "#sk-container-id-1 pre {\n",
              "  padding: 0;\n",
              "}\n",
              "\n",
              "#sk-container-id-1 input.sk-hidden--visually {\n",
              "  border: 0;\n",
              "  clip: rect(1px 1px 1px 1px);\n",
              "  clip: rect(1px, 1px, 1px, 1px);\n",
              "  height: 1px;\n",
              "  margin: -1px;\n",
              "  overflow: hidden;\n",
              "  padding: 0;\n",
              "  position: absolute;\n",
              "  width: 1px;\n",
              "}\n",
              "\n",
              "#sk-container-id-1 div.sk-dashed-wrapped {\n",
              "  border: 1px dashed var(--sklearn-color-line);\n",
              "  margin: 0 0.4em 0.5em 0.4em;\n",
              "  box-sizing: border-box;\n",
              "  padding-bottom: 0.4em;\n",
              "  background-color: var(--sklearn-color-background);\n",
              "}\n",
              "\n",
              "#sk-container-id-1 div.sk-container {\n",
              "  /* jupyter's `normalize.less` sets `[hidden] { display: none; }`\n",
              "     but bootstrap.min.css set `[hidden] { display: none !important; }`\n",
              "     so we also need the `!important` here to be able to override the\n",
              "     default hidden behavior on the sphinx rendered scikit-learn.org.\n",
              "     See: https://github.com/scikit-learn/scikit-learn/issues/21755 */\n",
              "  display: inline-block !important;\n",
              "  position: relative;\n",
              "}\n",
              "\n",
              "#sk-container-id-1 div.sk-text-repr-fallback {\n",
              "  display: none;\n",
              "}\n",
              "\n",
              "div.sk-parallel-item,\n",
              "div.sk-serial,\n",
              "div.sk-item {\n",
              "  /* draw centered vertical line to link estimators */\n",
              "  background-image: linear-gradient(var(--sklearn-color-text-on-default-background), var(--sklearn-color-text-on-default-background));\n",
              "  background-size: 2px 100%;\n",
              "  background-repeat: no-repeat;\n",
              "  background-position: center center;\n",
              "}\n",
              "\n",
              "/* Parallel-specific style estimator block */\n",
              "\n",
              "#sk-container-id-1 div.sk-parallel-item::after {\n",
              "  content: \"\";\n",
              "  width: 100%;\n",
              "  border-bottom: 2px solid var(--sklearn-color-text-on-default-background);\n",
              "  flex-grow: 1;\n",
              "}\n",
              "\n",
              "#sk-container-id-1 div.sk-parallel {\n",
              "  display: flex;\n",
              "  align-items: stretch;\n",
              "  justify-content: center;\n",
              "  background-color: var(--sklearn-color-background);\n",
              "  position: relative;\n",
              "}\n",
              "\n",
              "#sk-container-id-1 div.sk-parallel-item {\n",
              "  display: flex;\n",
              "  flex-direction: column;\n",
              "}\n",
              "\n",
              "#sk-container-id-1 div.sk-parallel-item:first-child::after {\n",
              "  align-self: flex-end;\n",
              "  width: 50%;\n",
              "}\n",
              "\n",
              "#sk-container-id-1 div.sk-parallel-item:last-child::after {\n",
              "  align-self: flex-start;\n",
              "  width: 50%;\n",
              "}\n",
              "\n",
              "#sk-container-id-1 div.sk-parallel-item:only-child::after {\n",
              "  width: 0;\n",
              "}\n",
              "\n",
              "/* Serial-specific style estimator block */\n",
              "\n",
              "#sk-container-id-1 div.sk-serial {\n",
              "  display: flex;\n",
              "  flex-direction: column;\n",
              "  align-items: center;\n",
              "  background-color: var(--sklearn-color-background);\n",
              "  padding-right: 1em;\n",
              "  padding-left: 1em;\n",
              "}\n",
              "\n",
              "\n",
              "/* Toggleable style: style used for estimator/Pipeline/ColumnTransformer box that is\n",
              "clickable and can be expanded/collapsed.\n",
              "- Pipeline and ColumnTransformer use this feature and define the default style\n",
              "- Estimators will overwrite some part of the style using the `sk-estimator` class\n",
              "*/\n",
              "\n",
              "/* Pipeline and ColumnTransformer style (default) */\n",
              "\n",
              "#sk-container-id-1 div.sk-toggleable {\n",
              "  /* Default theme specific background. It is overwritten whether we have a\n",
              "  specific estimator or a Pipeline/ColumnTransformer */\n",
              "  background-color: var(--sklearn-color-background);\n",
              "}\n",
              "\n",
              "/* Toggleable label */\n",
              "#sk-container-id-1 label.sk-toggleable__label {\n",
              "  cursor: pointer;\n",
              "  display: block;\n",
              "  width: 100%;\n",
              "  margin-bottom: 0;\n",
              "  padding: 0.5em;\n",
              "  box-sizing: border-box;\n",
              "  text-align: center;\n",
              "}\n",
              "\n",
              "#sk-container-id-1 label.sk-toggleable__label-arrow:before {\n",
              "  /* Arrow on the left of the label */\n",
              "  content: \"▸\";\n",
              "  float: left;\n",
              "  margin-right: 0.25em;\n",
              "  color: var(--sklearn-color-icon);\n",
              "}\n",
              "\n",
              "#sk-container-id-1 label.sk-toggleable__label-arrow:hover:before {\n",
              "  color: var(--sklearn-color-text);\n",
              "}\n",
              "\n",
              "/* Toggleable content - dropdown */\n",
              "\n",
              "#sk-container-id-1 div.sk-toggleable__content {\n",
              "  max-height: 0;\n",
              "  max-width: 0;\n",
              "  overflow: hidden;\n",
              "  text-align: left;\n",
              "  /* unfitted */\n",
              "  background-color: var(--sklearn-color-unfitted-level-0);\n",
              "}\n",
              "\n",
              "#sk-container-id-1 div.sk-toggleable__content.fitted {\n",
              "  /* fitted */\n",
              "  background-color: var(--sklearn-color-fitted-level-0);\n",
              "}\n",
              "\n",
              "#sk-container-id-1 div.sk-toggleable__content pre {\n",
              "  margin: 0.2em;\n",
              "  border-radius: 0.25em;\n",
              "  color: var(--sklearn-color-text);\n",
              "  /* unfitted */\n",
              "  background-color: var(--sklearn-color-unfitted-level-0);\n",
              "}\n",
              "\n",
              "#sk-container-id-1 div.sk-toggleable__content.fitted pre {\n",
              "  /* unfitted */\n",
              "  background-color: var(--sklearn-color-fitted-level-0);\n",
              "}\n",
              "\n",
              "#sk-container-id-1 input.sk-toggleable__control:checked~div.sk-toggleable__content {\n",
              "  /* Expand drop-down */\n",
              "  max-height: 200px;\n",
              "  max-width: 100%;\n",
              "  overflow: auto;\n",
              "}\n",
              "\n",
              "#sk-container-id-1 input.sk-toggleable__control:checked~label.sk-toggleable__label-arrow:before {\n",
              "  content: \"▾\";\n",
              "}\n",
              "\n",
              "/* Pipeline/ColumnTransformer-specific style */\n",
              "\n",
              "#sk-container-id-1 div.sk-label input.sk-toggleable__control:checked~label.sk-toggleable__label {\n",
              "  color: var(--sklearn-color-text);\n",
              "  background-color: var(--sklearn-color-unfitted-level-2);\n",
              "}\n",
              "\n",
              "#sk-container-id-1 div.sk-label.fitted input.sk-toggleable__control:checked~label.sk-toggleable__label {\n",
              "  background-color: var(--sklearn-color-fitted-level-2);\n",
              "}\n",
              "\n",
              "/* Estimator-specific style */\n",
              "\n",
              "/* Colorize estimator box */\n",
              "#sk-container-id-1 div.sk-estimator input.sk-toggleable__control:checked~label.sk-toggleable__label {\n",
              "  /* unfitted */\n",
              "  background-color: var(--sklearn-color-unfitted-level-2);\n",
              "}\n",
              "\n",
              "#sk-container-id-1 div.sk-estimator.fitted input.sk-toggleable__control:checked~label.sk-toggleable__label {\n",
              "  /* fitted */\n",
              "  background-color: var(--sklearn-color-fitted-level-2);\n",
              "}\n",
              "\n",
              "#sk-container-id-1 div.sk-label label.sk-toggleable__label,\n",
              "#sk-container-id-1 div.sk-label label {\n",
              "  /* The background is the default theme color */\n",
              "  color: var(--sklearn-color-text-on-default-background);\n",
              "}\n",
              "\n",
              "/* On hover, darken the color of the background */\n",
              "#sk-container-id-1 div.sk-label:hover label.sk-toggleable__label {\n",
              "  color: var(--sklearn-color-text);\n",
              "  background-color: var(--sklearn-color-unfitted-level-2);\n",
              "}\n",
              "\n",
              "/* Label box, darken color on hover, fitted */\n",
              "#sk-container-id-1 div.sk-label.fitted:hover label.sk-toggleable__label.fitted {\n",
              "  color: var(--sklearn-color-text);\n",
              "  background-color: var(--sklearn-color-fitted-level-2);\n",
              "}\n",
              "\n",
              "/* Estimator label */\n",
              "\n",
              "#sk-container-id-1 div.sk-label label {\n",
              "  font-family: monospace;\n",
              "  font-weight: bold;\n",
              "  display: inline-block;\n",
              "  line-height: 1.2em;\n",
              "}\n",
              "\n",
              "#sk-container-id-1 div.sk-label-container {\n",
              "  text-align: center;\n",
              "}\n",
              "\n",
              "/* Estimator-specific */\n",
              "#sk-container-id-1 div.sk-estimator {\n",
              "  font-family: monospace;\n",
              "  border: 1px dotted var(--sklearn-color-border-box);\n",
              "  border-radius: 0.25em;\n",
              "  box-sizing: border-box;\n",
              "  margin-bottom: 0.5em;\n",
              "  /* unfitted */\n",
              "  background-color: var(--sklearn-color-unfitted-level-0);\n",
              "}\n",
              "\n",
              "#sk-container-id-1 div.sk-estimator.fitted {\n",
              "  /* fitted */\n",
              "  background-color: var(--sklearn-color-fitted-level-0);\n",
              "}\n",
              "\n",
              "/* on hover */\n",
              "#sk-container-id-1 div.sk-estimator:hover {\n",
              "  /* unfitted */\n",
              "  background-color: var(--sklearn-color-unfitted-level-2);\n",
              "}\n",
              "\n",
              "#sk-container-id-1 div.sk-estimator.fitted:hover {\n",
              "  /* fitted */\n",
              "  background-color: var(--sklearn-color-fitted-level-2);\n",
              "}\n",
              "\n",
              "/* Specification for estimator info (e.g. \"i\" and \"?\") */\n",
              "\n",
              "/* Common style for \"i\" and \"?\" */\n",
              "\n",
              ".sk-estimator-doc-link,\n",
              "a:link.sk-estimator-doc-link,\n",
              "a:visited.sk-estimator-doc-link {\n",
              "  float: right;\n",
              "  font-size: smaller;\n",
              "  line-height: 1em;\n",
              "  font-family: monospace;\n",
              "  background-color: var(--sklearn-color-background);\n",
              "  border-radius: 1em;\n",
              "  height: 1em;\n",
              "  width: 1em;\n",
              "  text-decoration: none !important;\n",
              "  margin-left: 1ex;\n",
              "  /* unfitted */\n",
              "  border: var(--sklearn-color-unfitted-level-1) 1pt solid;\n",
              "  color: var(--sklearn-color-unfitted-level-1);\n",
              "}\n",
              "\n",
              ".sk-estimator-doc-link.fitted,\n",
              "a:link.sk-estimator-doc-link.fitted,\n",
              "a:visited.sk-estimator-doc-link.fitted {\n",
              "  /* fitted */\n",
              "  border: var(--sklearn-color-fitted-level-1) 1pt solid;\n",
              "  color: var(--sklearn-color-fitted-level-1);\n",
              "}\n",
              "\n",
              "/* On hover */\n",
              "div.sk-estimator:hover .sk-estimator-doc-link:hover,\n",
              ".sk-estimator-doc-link:hover,\n",
              "div.sk-label-container:hover .sk-estimator-doc-link:hover,\n",
              ".sk-estimator-doc-link:hover {\n",
              "  /* unfitted */\n",
              "  background-color: var(--sklearn-color-unfitted-level-3);\n",
              "  color: var(--sklearn-color-background);\n",
              "  text-decoration: none;\n",
              "}\n",
              "\n",
              "div.sk-estimator.fitted:hover .sk-estimator-doc-link.fitted:hover,\n",
              ".sk-estimator-doc-link.fitted:hover,\n",
              "div.sk-label-container:hover .sk-estimator-doc-link.fitted:hover,\n",
              ".sk-estimator-doc-link.fitted:hover {\n",
              "  /* fitted */\n",
              "  background-color: var(--sklearn-color-fitted-level-3);\n",
              "  color: var(--sklearn-color-background);\n",
              "  text-decoration: none;\n",
              "}\n",
              "\n",
              "/* Span, style for the box shown on hovering the info icon */\n",
              ".sk-estimator-doc-link span {\n",
              "  display: none;\n",
              "  z-index: 9999;\n",
              "  position: relative;\n",
              "  font-weight: normal;\n",
              "  right: .2ex;\n",
              "  padding: .5ex;\n",
              "  margin: .5ex;\n",
              "  width: min-content;\n",
              "  min-width: 20ex;\n",
              "  max-width: 50ex;\n",
              "  color: var(--sklearn-color-text);\n",
              "  box-shadow: 2pt 2pt 4pt #999;\n",
              "  /* unfitted */\n",
              "  background: var(--sklearn-color-unfitted-level-0);\n",
              "  border: .5pt solid var(--sklearn-color-unfitted-level-3);\n",
              "}\n",
              "\n",
              ".sk-estimator-doc-link.fitted span {\n",
              "  /* fitted */\n",
              "  background: var(--sklearn-color-fitted-level-0);\n",
              "  border: var(--sklearn-color-fitted-level-3);\n",
              "}\n",
              "\n",
              ".sk-estimator-doc-link:hover span {\n",
              "  display: block;\n",
              "}\n",
              "\n",
              "/* \"?\"-specific style due to the `<a>` HTML tag */\n",
              "\n",
              "#sk-container-id-1 a.estimator_doc_link {\n",
              "  float: right;\n",
              "  font-size: 1rem;\n",
              "  line-height: 1em;\n",
              "  font-family: monospace;\n",
              "  background-color: var(--sklearn-color-background);\n",
              "  border-radius: 1rem;\n",
              "  height: 1rem;\n",
              "  width: 1rem;\n",
              "  text-decoration: none;\n",
              "  /* unfitted */\n",
              "  color: var(--sklearn-color-unfitted-level-1);\n",
              "  border: var(--sklearn-color-unfitted-level-1) 1pt solid;\n",
              "}\n",
              "\n",
              "#sk-container-id-1 a.estimator_doc_link.fitted {\n",
              "  /* fitted */\n",
              "  border: var(--sklearn-color-fitted-level-1) 1pt solid;\n",
              "  color: var(--sklearn-color-fitted-level-1);\n",
              "}\n",
              "\n",
              "/* On hover */\n",
              "#sk-container-id-1 a.estimator_doc_link:hover {\n",
              "  /* unfitted */\n",
              "  background-color: var(--sklearn-color-unfitted-level-3);\n",
              "  color: var(--sklearn-color-background);\n",
              "  text-decoration: none;\n",
              "}\n",
              "\n",
              "#sk-container-id-1 a.estimator_doc_link.fitted:hover {\n",
              "  /* fitted */\n",
              "  background-color: var(--sklearn-color-fitted-level-3);\n",
              "}\n",
              "</style><div id=\"sk-container-id-1\" class=\"sk-top-container\"><div class=\"sk-text-repr-fallback\"><pre>XGBClassifier(base_score=None, booster=None, callbacks=None,\n",
              "              colsample_bylevel=None, colsample_bynode=None,\n",
              "              colsample_bytree=None, device=None, early_stopping_rounds=None,\n",
              "              enable_categorical=False, eval_metric=None, feature_types=None,\n",
              "              gamma=None, grow_policy=None, importance_type=None,\n",
              "              interaction_constraints=None, learning_rate=None, max_bin=None,\n",
              "              max_cat_threshold=None, max_cat_to_onehot=None,\n",
              "              max_delta_step=None, max_depth=None, max_leaves=None,\n",
              "              min_child_weight=None, missing=nan, monotone_constraints=None,\n",
              "              multi_strategy=None, n_estimators=None, n_jobs=None,\n",
              "              num_parallel_tree=None, random_state=None, ...)</pre><b>In a Jupyter environment, please rerun this cell to show the HTML representation or trust the notebook. <br />On GitHub, the HTML representation is unable to render, please try loading this page with nbviewer.org.</b></div><div class=\"sk-container\" hidden><div class=\"sk-item\"><div class=\"sk-estimator fitted sk-toggleable\"><input class=\"sk-toggleable__control sk-hidden--visually\" id=\"sk-estimator-id-1\" type=\"checkbox\" checked><label for=\"sk-estimator-id-1\" class=\"sk-toggleable__label fitted sk-toggleable__label-arrow fitted\">&nbsp;XGBClassifier<span class=\"sk-estimator-doc-link fitted\">i<span>Fitted</span></span></label><div class=\"sk-toggleable__content fitted\"><pre>XGBClassifier(base_score=None, booster=None, callbacks=None,\n",
              "              colsample_bylevel=None, colsample_bynode=None,\n",
              "              colsample_bytree=None, device=None, early_stopping_rounds=None,\n",
              "              enable_categorical=False, eval_metric=None, feature_types=None,\n",
              "              gamma=None, grow_policy=None, importance_type=None,\n",
              "              interaction_constraints=None, learning_rate=None, max_bin=None,\n",
              "              max_cat_threshold=None, max_cat_to_onehot=None,\n",
              "              max_delta_step=None, max_depth=None, max_leaves=None,\n",
              "              min_child_weight=None, missing=nan, monotone_constraints=None,\n",
              "              multi_strategy=None, n_estimators=None, n_jobs=None,\n",
              "              num_parallel_tree=None, random_state=None, ...)</pre></div> </div></div></div></div>"
            ],
            "text/plain": [
              "XGBClassifier(base_score=None, booster=None, callbacks=None,\n",
              "              colsample_bylevel=None, colsample_bynode=None,\n",
              "              colsample_bytree=None, device=None, early_stopping_rounds=None,\n",
              "              enable_categorical=False, eval_metric=None, feature_types=None,\n",
              "              gamma=None, grow_policy=None, importance_type=None,\n",
              "              interaction_constraints=None, learning_rate=None, max_bin=None,\n",
              "              max_cat_threshold=None, max_cat_to_onehot=None,\n",
              "              max_delta_step=None, max_depth=None, max_leaves=None,\n",
              "              min_child_weight=None, missing=nan, monotone_constraints=None,\n",
              "              multi_strategy=None, n_estimators=None, n_jobs=None,\n",
              "              num_parallel_tree=None, random_state=None, ...)"
            ]
          },
          "execution_count": 24,
          "metadata": {},
          "output_type": "execute_result"
        }
      ],
      "source": [
        "#Feature Importance\n",
        "\"\"\"To calculate the feature importance, you use an Extra Gradient Boosting Classifier that indicates\n",
        "how well a feature can explain the variance in the dependent variable.\n",
        "\"\"\"\n",
        "from xgboost import XGBClassifier\n",
        "from sklearn.model_selection import train_test_split\n",
        "from sklearn.preprocessing import StandardScaler\n",
        "\n",
        "#spliting the data set in train and test sets\n",
        "\n",
        "training_features, _, training_labels, _, = train_test_split(df.drop('stroke', axis = 1), df.stroke, test_size = 0.3,\n",
        "                                                            random_state = 123)\n",
        "\n",
        "#scaling the data\n",
        "scaler = StandardScaler()\n",
        "train_features_scaled = scaler.fit_transform(training_features)\n",
        "\n",
        "#fitting a tree basec classifier\n",
        "XGBC_model = XGBClassifier()\n",
        "XGBC_model.fit(train_features_scaled, training_labels)"
      ]
    },
    {
      "cell_type": "code",
      "execution_count": null,
      "id": "cc277059-c2e0-4886-af3d-2705aa98ff74",
      "metadata": {
        "id": "cc277059-c2e0-4886-af3d-2705aa98ff74"
      },
      "outputs": [],
      "source": [
        "#saving theimportance score with the column names in the dataframe\n",
        "importance_DF = pd.DataFrame(\n",
        "    data = {'feature': training_features.columns,\n",
        "           'importance': XGBC_model.feature_importances_})"
      ]
    },
    {
      "cell_type": "code",
      "execution_count": null,
      "id": "881ed898-8cf8-4f7b-92fb-794e65a7f06e",
      "metadata": {
        "id": "881ed898-8cf8-4f7b-92fb-794e65a7f06e"
      },
      "outputs": [],
      "source": [
        "#sorting the importance score in descending order\n",
        "feature_importances = pd.Series(XGBC_model.feature_importances_,\n",
        "                               index = training_features.columns).sort_values(ascending = False)"
      ]
    },
    {
      "cell_type": "code",
      "execution_count": null,
      "id": "a359d5a3-3349-4dc2-9f1a-35dc0583ffef",
      "metadata": {
        "id": "a359d5a3-3349-4dc2-9f1a-35dc0583ffef",
        "outputId": "d9a15035-a62d-4693-8272-a96b40e5fb2e"
      },
      "outputs": [
        {
          "data": {
            "text/plain": [
              "<Axes: >"
            ]
          },
          "execution_count": 27,
          "metadata": {},
          "output_type": "execute_result"
        },
        {
          "data": {
            "image/png": "[encoded data removed]",
            "text/plain": [
              "<Figure size 640x480 with 1 Axes>"
            ]
          },
          "metadata": {},
          "output_type": "display_data"
        }
      ],
      "source": [
        "#plotting the importance\n",
        "feature_importances.plot(kind = 'barh')"
      ]
    },
    {
      "cell_type": "code",
      "execution_count": null,
      "id": "8d4cbf8b-4254-4ca1-b9a2-5ab824b288c8",
      "metadata": {
        "id": "8d4cbf8b-4254-4ca1-b9a2-5ab824b288c8"
      },
      "outputs": [],
      "source": [
        "#You have selected the top six important features as the feature importance\n",
        "#score seems to plateau after the first six important variables."
      ]
    },
    {
      "cell_type": "code",
      "execution_count": null,
      "id": "99f321fe-1775-44f8-8c56-0d2db6f0ce49",
      "metadata": {
        "id": "99f321fe-1775-44f8-8c56-0d2db6f0ce49"
      },
      "outputs": [],
      "source": [
        "#extracting important variables along with dependent variable from the clean data\n",
        "imp_cols_6 = feature_importances.iloc[0:6].index.tolist()\n",
        "df = df[imp_cols_6+['stroke']]"
      ]
    },
    {
      "cell_type": "code",
      "execution_count": null,
      "id": "fdc45fda-8403-40f7-b8f4-9c05b3dd45c7",
      "metadata": {
        "id": "fdc45fda-8403-40f7-b8f4-9c05b3dd45c7"
      },
      "outputs": [],
      "source": [
        "#removing multicollinearity\n",
        "#Another major assumption of logistic regression is\n",
        "#that there should be no multicollinearity, meaning no independent\n",
        "#feature should be related to one or more independent variables.\n",
        "#use correlation matrix to find features with high correlation with others"
      ]
    },
    {
      "cell_type": "code",
      "execution_count": null,
      "id": "ea3bc636-38dd-4c61-b191-ac331796b4bc",
      "metadata": {
        "id": "ea3bc636-38dd-4c61-b191-ac331796b4bc",
        "outputId": "8704eca2-743b-421c-9aba-f9a756f49e05"
      },
      "outputs": [
        {
          "data": {
            "text/plain": [
              "<Axes: >"
            ]
          },
          "execution_count": 31,
          "metadata": {},
          "output_type": "execute_result"
        },
        {
          "data": {
            "image/png": "[encoded data removed]",
            "text/plain": [
              "<Figure size 1200x1000 with 2 Axes>"
            ]
          },
          "metadata": {},
          "output_type": "display_data"
        }
      ],
      "source": [
        "#Checking for correlation among variables\n",
        "import seaborn as sns\n",
        "corr = df.drop('stroke',axis=1).corr()\n",
        "f, ax = plt.subplots(figsize=(12, 10))\n",
        "mask = np.triu(np.ones_like(corr, dtype=bool))\n",
        "cmap = sns.diverging_palette(230, 20, as_cmap=True)\n",
        "sns.heatmap(corr, annot=True, mask = mask, cmap=cmap)"
      ]
    },
    {
      "cell_type": "code",
      "execution_count": null,
      "id": "c81baba1-f899-4856-9f36-44a8d44f6e57",
      "metadata": {
        "id": "c81baba1-f899-4856-9f36-44a8d44f6e57"
      },
      "outputs": [],
      "source": [
        "\"\"\"\n",
        "To identify variables causing multicollinearity, one can calculate each column’s Variance Inflation Factor\n",
        "(VIF). The formula for VIF is 1/1-R2.\n",
        "It indicates how well all the features can predict the feature in question.\n",
        "The high value of VIF indicates that it’s highly related to all other features.\n",
        "While there is a lot of debate on the acceptable value of VIF, one can choose from 2, 5, or 10.\n",
        "\"\"\"\n",
        "from statsmodels.stats.outliers_influence import variance_inflation_factor as vif\n",
        "\n",
        "# saving all the independent features\n",
        "features = df.drop('stroke', axis=1)"
      ]
    },
    {
      "cell_type": "code",
      "execution_count": null,
      "id": "25719c2f-cde5-4258-9be9-2bc97569003f",
      "metadata": {
        "id": "25719c2f-cde5-4258-9be9-2bc97569003f"
      },
      "outputs": [],
      "source": [
        "# calculating vif score for each feature\n",
        "vif_scores = pd.Series(\n",
        "[vif(features.values, i) for i in range(len(features.columns))] )"
      ]
    },
    {
      "cell_type": "code",
      "execution_count": null,
      "id": "df80a312-cf8f-426b-835b-ae85da7491f6",
      "metadata": {
        "id": "df80a312-cf8f-426b-835b-ae85da7491f6"
      },
      "outputs": [],
      "source": [
        "# adding column names to the vif score\n",
        "vif_scores.index = features.columns"
      ]
    },
    {
      "cell_type": "code",
      "execution_count": null,
      "id": "2c79ce32-5b6a-442d-bb41-28dc30d404e6",
      "metadata": {
        "id": "2c79ce32-5b6a-442d-bb41-28dc30d404e6",
        "outputId": "8cd3d577-a978-4201-afe7-33e76717d8c5"
      },
      "outputs": [
        {
          "data": {
            "text/plain": [
              "bmi              8.498494\n",
              "age              5.842116\n",
              "work_type        3.390381\n",
              "gender           1.688256\n",
              "hypertension     1.194052\n",
              "heart_disease    1.150324\n",
              "dtype: float64"
            ]
          },
          "execution_count": 35,
          "metadata": {},
          "output_type": "execute_result"
        }
      ],
      "source": [
        "# sorting the vif scores in descending order\n",
        "vif_scores = vif_scores.sort_values(ascending=False)\n",
        "vif_scores"
      ]
    },
    {
      "cell_type": "code",
      "execution_count": null,
      "id": "970f3892-0e8e-4a8c-953d-ee135ced977a",
      "metadata": {
        "id": "970f3892-0e8e-4a8c-953d-ee135ced977a"
      },
      "outputs": [],
      "source": [
        "# removing the column with highest VIF score as the column - we shoul avoid dropping age as its the most feature as seen before"
      ]
    },
    {
      "cell_type": "code",
      "execution_count": null,
      "id": "d6868855-20c3-4eb6-b9f4-183a8b8cccd4",
      "metadata": {
        "id": "d6868855-20c3-4eb6-b9f4-183a8b8cccd4"
      },
      "outputs": [],
      "source": [
        "# with the highest VIF score is highly important\n",
        "features.drop('bmi', axis=1, inplace=True)"
      ]
    },
    {
      "cell_type": "code",
      "execution_count": null,
      "id": "015b801c-fb53-44ed-b19b-817f6807f145",
      "metadata": {
        "id": "015b801c-fb53-44ed-b19b-817f6807f145",
        "outputId": "263661e1-ad85-4905-8812-e3291eaee6ff"
      },
      "outputs": [
        {
          "data": {
            "text/plain": [
              "age              2.536401\n",
              "heart_disease    1.128456\n",
              "hypertension     1.193651\n",
              "gender           1.646189\n",
              "work_type        2.328032\n",
              "dtype: float64"
            ]
          },
          "execution_count": 38,
          "metadata": {},
          "output_type": "execute_result"
        }
      ],
      "source": [
        "# recalculating VIF score\n",
        "vif_scores = pd.Series([vif(features.values, i) for i in range(len(features.columns))])\n",
        "vif_scores.index = features.columns\n",
        "vif_scores.sort_values(ascending=False)\n",
        "vif_scores"
      ]
    },
    {
      "cell_type": "code",
      "execution_count": null,
      "id": "be4c140b-9ab2-4b65-ac5a-9e9559f95426",
      "metadata": {
        "id": "be4c140b-9ab2-4b65-ac5a-9e9559f95426"
      },
      "outputs": [],
      "source": [
        "#Therefore, now you go ahead and drop the ‘bmi’ variable from the prepared datatset. 2 as highest is acceptable\n",
        "# dropping 'bmi' column from the main data\n",
        "df.drop('bmi', axis=1, inplace=True)"
      ]
    },
    {
      "cell_type": "code",
      "execution_count": null,
      "id": "92134f03-901b-493a-aeb9-edbe39b45872",
      "metadata": {
        "id": "92134f03-901b-493a-aeb9-edbe39b45872"
      },
      "outputs": [],
      "source": [
        "#Thus, the final dataset that will be used for fitting the model will have five independent columns."
      ]
    },
    {
      "cell_type": "code",
      "execution_count": null,
      "id": "24cf816e-170b-4de0-aee5-c14fbbd3d845",
      "metadata": {
        "id": "24cf816e-170b-4de0-aee5-c14fbbd3d845",
        "outputId": "9991986f-f821-453e-b5bf-709fd4289b33"
      },
      "outputs": [
        {
          "data": {
            "text/plain": [
              "Index(['age', 'heart_disease', 'hypertension', 'gender', 'work_type',\n",
              "       'stroke'],\n",
              "      dtype='object')"
            ]
          },
          "execution_count": 41,
          "metadata": {},
          "output_type": "execute_result"
        }
      ],
      "source": [
        "# saving all the columns to be used for modeling\n",
        "final_columns = df.columns\n",
        "final_columns"
      ]
    },
    {
      "cell_type": "code",
      "execution_count": null,
      "id": "533be62b-fc95-458c-b6bc-b31bdcd6595e",
      "metadata": {
        "id": "533be62b-fc95-458c-b6bc-b31bdcd6595e"
      },
      "outputs": [],
      "source": [
        "#MODEL FITTING\n",
        "# splitting the data into train features and labels and test features and labels\n",
        "X_train, X_test, y_train, y_test = train_test_split(df.drop('stroke',axis=1),\n",
        "df.stroke,\n",
        "test_size=0.3,\n",
        "random_state = 123)"
      ]
    },
    {
      "cell_type": "code",
      "execution_count": null,
      "id": "f0a082b1-cdf7-4f6e-8cec-ad61764dd07a",
      "metadata": {
        "id": "f0a082b1-cdf7-4f6e-8cec-ad61764dd07a"
      },
      "outputs": [],
      "source": [
        "# fitting logistic regression model using sklearn\n",
        "from sklearn.linear_model import LogisticRegression"
      ]
    },
    {
      "cell_type": "code",
      "execution_count": null,
      "id": "de6d22b3-caf0-45de-a0ad-a0267b226276",
      "metadata": {
        "id": "de6d22b3-caf0-45de-a0ad-a0267b226276"
      },
      "outputs": [],
      "source": [
        "# initializing logistic regression model\n",
        "logreg = LogisticRegression(random_state=123, max_iter = 10000, penalty='l2')"
      ]
    },
    {
      "cell_type": "code",
      "execution_count": null,
      "id": "d9ff1464-96ee-4548-95e1-757ac6edb363",
      "metadata": {
        "id": "d9ff1464-96ee-4548-95e1-757ac6edb363"
      },
      "outputs": [],
      "source": [
        "# fitting model to the train data\n",
        "model = logreg.fit(X_train, y_train)"
      ]
    },
    {
      "cell_type": "code",
      "execution_count": null,
      "id": "dbf930c4-8107-410c-a04b-7fcf4f05b914",
      "metadata": {
        "id": "dbf930c4-8107-410c-a04b-7fcf4f05b914",
        "outputId": "896b3386-d1a5-48f6-e310-5d05d9754e8a"
      },
      "outputs": [
        {
          "data": {
            "text/plain": [
              "array([[0.99846659, 0.00153341],\n",
              "       [0.99768586, 0.00231414],\n",
              "       [0.98792572, 0.01207428],\n",
              "       ...,\n",
              "       [0.99470385, 0.00529615],\n",
              "       [0.99877715, 0.00122285],\n",
              "       [0.97063236, 0.02936764]])"
            ]
          },
          "execution_count": 46,
          "metadata": {},
          "output_type": "execute_result"
        }
      ],
      "source": [
        "#Predicting probabilities and classes\n",
        "\"\"\"\n",
        "You have used the model to predict the test dataset. When using a logistic regression model in Python,\n",
        "you can use the predict_proba function that returns the predicted probabilities. Here on the left,\n",
        "you have the probability of the observation belonging to class 0 (healthy), while on the right,\n",
        "the probability is of being to class 1 (stroke).\n",
        "\"\"\"\n",
        "\n",
        "# predicting for the test data\n",
        "model.predict_proba(X_test)"
      ]
    },
    {
      "cell_type": "code",
      "execution_count": null,
      "id": "dde774ca-f900-44d4-bd53-f37101e63ffc",
      "metadata": {
        "id": "dde774ca-f900-44d4-bd53-f37101e63ffc",
        "outputId": "a2567eaf-a2fb-4568-b6ca-4a30dc41289e"
      },
      "outputs": [
        {
          "data": {
            "text/plain": [
              "array([0, 0, 0, ..., 0, 0, 0], dtype=int64)"
            ]
          },
          "execution_count": 47,
          "metadata": {},
          "output_type": "execute_result"
        }
      ],
      "source": [
        "#You can use the predict function, which converts the predicted probabilities into classes such that it returns 1 when the probability is above 0.5\n",
        "#and 0 when it’s below 0.5.\n",
        "\n",
        "# predicting classes\n",
        "model.predict(X_test)"
      ]
    },
    {
      "cell_type": "code",
      "execution_count": null,
      "id": "56ab5ec5-5be9-481b-8d01-fa2d5539488e",
      "metadata": {
        "id": "56ab5ec5-5be9-481b-8d01-fa2d5539488e"
      },
      "outputs": [],
      "source": [
        "# predicting and saving the probability for the positive class with the actual classes\n",
        "train_scores = pd.concat([\n",
        "pd.Series(y_train, name='y_true').reset_index(drop=True),\n",
        "pd.Series(model.predict_proba(X_train)[::,1],\n",
        "name='y_prob').reset_index(drop=True)\n",
        "],axis=1)\n",
        "test_scores = pd.concat([\n",
        "pd.Series(y_test, name='y_true').reset_index(drop=True),\n",
        "pd.Series(model.predict_proba(X_test)[::,1],\n",
        "name='y_prob').reset_index(drop=True)\n",
        "],axis=1)"
      ]
    },
    {
      "cell_type": "code",
      "execution_count": null,
      "id": "58f8c552-8f26-46d7-96d6-0791de1b96ca",
      "metadata": {
        "id": "58f8c552-8f26-46d7-96d6-0791de1b96ca",
        "outputId": "6907bea2-ff23-401c-dafd-790d6cfce9c8"
      },
      "outputs": [
        {
          "data": {
            "text/html": [
              "<div>\n",
              "<style scoped>\n",
              "    .dataframe tbody tr th:only-of-type {\n",
              "        vertical-align: middle;\n",
              "    }\n",
              "\n",
              "    .dataframe tbody tr th {\n",
              "        vertical-align: top;\n",
              "    }\n",
              "\n",
              "    .dataframe thead th {\n",
              "        text-align: right;\n",
              "    }\n",
              "</style>\n",
              "<table border=\"1\" class=\"dataframe\">\n",
              "  <thead>\n",
              "    <tr style=\"text-align: right;\">\n",
              "      <th></th>\n",
              "      <th>y_true</th>\n",
              "      <th>y_prob</th>\n",
              "    </tr>\n",
              "  </thead>\n",
              "  <tbody>\n",
              "    <tr>\n",
              "      <th>0</th>\n",
              "      <td>0</td>\n",
              "      <td>0.003636</td>\n",
              "    </tr>\n",
              "    <tr>\n",
              "      <th>1</th>\n",
              "      <td>0</td>\n",
              "      <td>0.008889</td>\n",
              "    </tr>\n",
              "    <tr>\n",
              "      <th>2</th>\n",
              "      <td>0</td>\n",
              "      <td>0.022608</td>\n",
              "    </tr>\n",
              "    <tr>\n",
              "      <th>3</th>\n",
              "      <td>0</td>\n",
              "      <td>0.049003</td>\n",
              "    </tr>\n",
              "    <tr>\n",
              "      <th>4</th>\n",
              "      <td>0</td>\n",
              "      <td>0.000637</td>\n",
              "    </tr>\n",
              "    <tr>\n",
              "      <th>...</th>\n",
              "      <td>...</td>\n",
              "      <td>...</td>\n",
              "    </tr>\n",
              "    <tr>\n",
              "      <th>3572</th>\n",
              "      <td>0</td>\n",
              "      <td>0.006364</td>\n",
              "    </tr>\n",
              "    <tr>\n",
              "      <th>3573</th>\n",
              "      <td>0</td>\n",
              "      <td>0.098835</td>\n",
              "    </tr>\n",
              "    <tr>\n",
              "      <th>3574</th>\n",
              "      <td>0</td>\n",
              "      <td>0.024339</td>\n",
              "    </tr>\n",
              "    <tr>\n",
              "      <th>3575</th>\n",
              "      <td>0</td>\n",
              "      <td>0.062443</td>\n",
              "    </tr>\n",
              "    <tr>\n",
              "      <th>3576</th>\n",
              "      <td>0</td>\n",
              "      <td>0.037504</td>\n",
              "    </tr>\n",
              "  </tbody>\n",
              "</table>\n",
              "<p>3577 rows × 2 columns</p>\n",
              "</div>"
            ],
            "text/plain": [
              "      y_true    y_prob\n",
              "0          0  0.003636\n",
              "1          0  0.008889\n",
              "2          0  0.022608\n",
              "3          0  0.049003\n",
              "4          0  0.000637\n",
              "...      ...       ...\n",
              "3572       0  0.006364\n",
              "3573       0  0.098835\n",
              "3574       0  0.024339\n",
              "3575       0  0.062443\n",
              "3576       0  0.037504\n",
              "\n",
              "[3577 rows x 2 columns]"
            ]
          },
          "execution_count": 49,
          "metadata": {},
          "output_type": "execute_result"
        }
      ],
      "source": [
        "#You now have a dataset with the training data’s dependent variable (y_true) and predicted probabilities (y_prob).\n",
        "\n",
        "# viewing train scores\n",
        "train_scores"
      ]
    },
    {
      "cell_type": "code",
      "execution_count": null,
      "id": "18a3f7b8-c68f-4117-be1a-d4e379edda62",
      "metadata": {
        "id": "18a3f7b8-c68f-4117-be1a-d4e379edda62",
        "outputId": "9d4e6f33-bcf6-4f58-fe47-59371554a41c"
      },
      "outputs": [
        {
          "data": {
            "text/html": [
              "<div>\n",
              "<style scoped>\n",
              "    .dataframe tbody tr th:only-of-type {\n",
              "        vertical-align: middle;\n",
              "    }\n",
              "\n",
              "    .dataframe tbody tr th {\n",
              "        vertical-align: top;\n",
              "    }\n",
              "\n",
              "    .dataframe thead th {\n",
              "        text-align: right;\n",
              "    }\n",
              "</style>\n",
              "<table border=\"1\" class=\"dataframe\">\n",
              "  <thead>\n",
              "    <tr style=\"text-align: right;\">\n",
              "      <th></th>\n",
              "      <th>y_true</th>\n",
              "      <th>y_prob</th>\n",
              "    </tr>\n",
              "  </thead>\n",
              "  <tbody>\n",
              "    <tr>\n",
              "      <th>0</th>\n",
              "      <td>0</td>\n",
              "      <td>0.001533</td>\n",
              "    </tr>\n",
              "    <tr>\n",
              "      <th>1</th>\n",
              "      <td>0</td>\n",
              "      <td>0.002314</td>\n",
              "    </tr>\n",
              "    <tr>\n",
              "      <th>2</th>\n",
              "      <td>0</td>\n",
              "      <td>0.012074</td>\n",
              "    </tr>\n",
              "    <tr>\n",
              "      <th>3</th>\n",
              "      <td>0</td>\n",
              "      <td>0.020317</td>\n",
              "    </tr>\n",
              "    <tr>\n",
              "      <th>4</th>\n",
              "      <td>0</td>\n",
              "      <td>0.001483</td>\n",
              "    </tr>\n",
              "    <tr>\n",
              "      <th>...</th>\n",
              "      <td>...</td>\n",
              "      <td>...</td>\n",
              "    </tr>\n",
              "    <tr>\n",
              "      <th>1528</th>\n",
              "      <td>0</td>\n",
              "      <td>0.004557</td>\n",
              "    </tr>\n",
              "    <tr>\n",
              "      <th>1529</th>\n",
              "      <td>0</td>\n",
              "      <td>0.017518</td>\n",
              "    </tr>\n",
              "    <tr>\n",
              "      <th>1530</th>\n",
              "      <td>0</td>\n",
              "      <td>0.005296</td>\n",
              "    </tr>\n",
              "    <tr>\n",
              "      <th>1531</th>\n",
              "      <td>0</td>\n",
              "      <td>0.001223</td>\n",
              "    </tr>\n",
              "    <tr>\n",
              "      <th>1532</th>\n",
              "      <td>0</td>\n",
              "      <td>0.029368</td>\n",
              "    </tr>\n",
              "  </tbody>\n",
              "</table>\n",
              "<p>1533 rows × 2 columns</p>\n",
              "</div>"
            ],
            "text/plain": [
              "      y_true    y_prob\n",
              "0          0  0.001533\n",
              "1          0  0.002314\n",
              "2          0  0.012074\n",
              "3          0  0.020317\n",
              "4          0  0.001483\n",
              "...      ...       ...\n",
              "1528       0  0.004557\n",
              "1529       0  0.017518\n",
              "1530       0  0.005296\n",
              "1531       0  0.001223\n",
              "1532       0  0.029368\n",
              "\n",
              "[1533 rows x 2 columns]"
            ]
          },
          "execution_count": 50,
          "metadata": {},
          "output_type": "execute_result"
        }
      ],
      "source": [
        "#Similarly, another dataset is where you have y_true and y_prob for the test data.\n",
        "\n",
        "# viewing test scores\n",
        "test_scores"
      ]
    },
    {
      "cell_type": "code",
      "execution_count": null,
      "id": "863d756e-43b5-4ed6-a9ea-cecb1100a84a",
      "metadata": {
        "id": "863d756e-43b5-4ed6-a9ea-cecb1100a84a"
      },
      "outputs": [],
      "source": [
        "#model evaluation\n",
        "#PROBABILITY BASED PERFORMANCE METRICS\n",
        "\"\"\"\n",
        "ROC Curve\n",
        "ROC Curve plots the True Positive Rate (TPR/Sensitivity) and True Negative Rate (TNR/Specificity).\n",
        "As it’s difficult to plot these two as it is to from a curve, we use False Positive Rate (FPR),\n",
        "which is 1-TNR instead of TNR. Ideally, the area under the curve (AUC) should be high, i.e.,\n",
        "the cumulative correctly predicted positives and negatives should be high.\n",
        "The curve has an elbow at the point where TPR is equal to TNR.\n",
        "As you can see below, in your case, the AUC score for the train data is a decent 85%,\n",
        "indicating that the model is not underfitting. At the same time, it is 81% for the test,\n",
        "which is not a massive drop, indicating that the model is not overfitting and generalizing well.\n",
        "\"\"\"\n",
        "\n",
        "# creating a ROC curve\n",
        "from sklearn import metrics"
      ]
    },
    {
      "cell_type": "code",
      "execution_count": null,
      "id": "bcd0b177-af7d-4018-80b5-2aa2eb16c4e3",
      "metadata": {
        "id": "bcd0b177-af7d-4018-80b5-2aa2eb16c4e3"
      },
      "outputs": [],
      "source": [
        "# Data for ROC curve train\n",
        "fpr_train, tpr_train, threshold_train = \\\n",
        "metrics.roc_curve(train_scores.y_true, train_scores.y_prob)\n",
        "roc_auc_train = metrics.auc(fpr_train, tpr_train)"
      ]
    },
    {
      "cell_type": "code",
      "execution_count": null,
      "id": "fef84547-81b7-47e3-af26-5511006f5f23",
      "metadata": {
        "id": "fef84547-81b7-47e3-af26-5511006f5f23"
      },
      "outputs": [],
      "source": [
        "# Data for ROC curve test\n",
        "fpr_test, tpr_test, threshold_test = \\\n",
        "metrics.roc_curve(test_scores.y_true, test_scores.y_prob)\n",
        "roc_auc_test = metrics.auc(fpr_test, tpr_test)"
      ]
    },
    {
      "cell_type": "code",
      "execution_count": null,
      "id": "6d81331c-721d-4761-a5a0-a3f3c8aed350",
      "metadata": {
        "id": "6d81331c-721d-4761-a5a0-a3f3c8aed350",
        "outputId": "c7476812-8bb8-4fe8-852b-f9615c4f4fc5"
      },
      "outputs": [
        {
          "data": {
            "text/plain": [
              "<Figure size 700x350 with 0 Axes>"
            ]
          },
          "execution_count": 54,
          "metadata": {},
          "output_type": "execute_result"
        },
        {
          "data": {
            "text/plain": [
              "<Figure size 700x350 with 0 Axes>"
            ]
          },
          "metadata": {},
          "output_type": "display_data"
        }
      ],
      "source": [
        "# setting the figure size\n",
        "plt.figure(figsize=(7, 3.5))"
      ]
    },
    {
      "cell_type": "code",
      "execution_count": null,
      "id": "82e52c6e-2425-4eae-9d68-e1efa6e643d0",
      "metadata": {
        "id": "82e52c6e-2425-4eae-9d68-e1efa6e643d0",
        "outputId": "e7aa2f2b-cdbf-4d27-ae5a-1710b6542c9e"
      },
      "outputs": [
        {
          "data": {
            "image/png": "[encoded data removed]",
            "text/plain": [
              "<Figure size 640x480 with 1 Axes>"
            ]
          },
          "metadata": {},
          "output_type": "display_data"
        }
      ],
      "source": [
        "# creating the two plots\n",
        "plt.plot(fpr_train, tpr_train, 'r', label = 'train (AUC score = %0.2f)' % roc_auc_train)\n",
        "plt.plot(fpr_test, tpr_test, 'g', label = 'test (AUC score = %0.2f)' % roc_auc_test)\n",
        "\n",
        "# setting the title, legend, labels etc.\n",
        "plt.title('Receiver Operating Characteristic (ROC) Curve')\n",
        "plt.legend(loc = 'lower right')\n",
        "plt.plot([0, 1], [0, 1,],'k--')\n",
        "plt.xlim([0, 1])\n",
        "plt.ylim([0, 1])\n",
        "plt.ylabel('True Positive Rate')\n",
        "plt.xlabel('False Positive Rate')\n",
        "plt.show()"
      ]
    },
    {
      "cell_type": "code",
      "execution_count": null,
      "id": "11b1c9c5-72ce-48a2-b202-d292f1ce0d86",
      "metadata": {
        "id": "11b1c9c5-72ce-48a2-b202-d292f1ce0d86",
        "outputId": "0351a578-a249-4bc0-ca65-52d73a0d0231"
      },
      "outputs": [
        {
          "data": {
            "text/plain": [
              "'\\nPlots like probability calibration curves (also known as reliability diagrams) help you visualize and \\nunderstand how well calibrated, i.e., reliable are the model’s predicted probabilities.  The plot is created by \\nhaving the predicted probabilities in ten groups, such as the first group being 0 to 0.1, the second being 0.1 \\nto 0.2, the third being 0.2 to 0.3, and so on, with the last being 0.9 to 1. The x-axis has the average predicted\\nprobability in each group, while the y-axis has the ratio/proportion of actual positives (also known as the empirical probability).\\n'"
            ]
          },
          "execution_count": 67,
          "metadata": {},
          "output_type": "execute_result"
        }
      ],
      "source": [
        "\"\"\"\n",
        "Plots like probability calibration curves (also known as reliability diagrams) help you visualize and\n",
        "understand how well calibrated, i.e., reliable are the model’s predicted probabilities.  The plot is created by\n",
        "having the predicted probabilities in ten groups, such as the first group being 0 to 0.1, the second being 0.1\n",
        "to 0.2, the third being 0.2 to 0.3, and so on, with the last being 0.9 to 1. The x-axis has the average predicted\n",
        "probability in each group, while the y-axis has the ratio/proportion of actual positives (also known as the empirical probability).\n",
        "\"\"\""
      ]
    },
    {
      "cell_type": "code",
      "execution_count": null,
      "id": "40a1d9f2-3014-4531-a6a8-63778b7143b1",
      "metadata": {
        "id": "40a1d9f2-3014-4531-a6a8-63778b7143b1"
      },
      "outputs": [],
      "source": [
        "\"\"\"\n",
        "Ideally, a well-calibrated model should follow a linear straight (diagonal) line.\n",
        "Suppose the model is above the diagonal line. In that case, it indicates that\n",
        "the probabilities are too small and the model is underpredicting (underestimating).\n",
        "In contrast, if it’s below the diagonal line, the probabilities are too large, and\n",
        "the model is overpredicting (overestimating).\n",
        "\"\"\"\n",
        "\n",
        "# saving data for calibration plot using train data\n",
        "xaxis_train, yaxis_train = calibration_curve(train_scores.y_true, train_scores.y_prob,\n",
        "n_bins = 10,\n",
        "strategy='uniform')"
      ]
    },
    {
      "cell_type": "code",
      "execution_count": null,
      "id": "7d133fd8-a781-4681-9173-e110c08ba1dd",
      "metadata": {
        "id": "7d133fd8-a781-4681-9173-e110c08ba1dd"
      },
      "outputs": [],
      "source": [
        "# saving data for calibration plot using test data\n",
        "xaxis_test, yaxis_test = calibration_curve(test_scores.y_true, test_scores.y_prob,\n",
        "n_bins = 10,\n",
        "strategy='uniform')\n"
      ]
    },
    {
      "cell_type": "code",
      "execution_count": null,
      "id": "367f375a-7b82-4e86-93fe-e57e8f142559",
      "metadata": {
        "id": "367f375a-7b82-4e86-93fe-e57e8f142559",
        "outputId": "617dca8d-498c-4bfb-acd2-6398521cefd3"
      },
      "outputs": [
        {
          "data": {
            "text/plain": [
              "<Figure size 700x350 with 0 Axes>"
            ]
          },
          "execution_count": 72,
          "metadata": {},
          "output_type": "execute_result"
        },
        {
          "data": {
            "text/plain": [
              "<Figure size 700x350 with 0 Axes>"
            ]
          },
          "metadata": {},
          "output_type": "display_data"
        }
      ],
      "source": [
        "# setting figure size\n",
        "plt.figure(figsize=(7, 3.5))"
      ]
    },
    {
      "cell_type": "code",
      "execution_count": null,
      "id": "f3d1f735-03a0-429d-9cc3-39849bb8a76b",
      "metadata": {
        "id": "f3d1f735-03a0-429d-9cc3-39849bb8a76b",
        "outputId": "f384bbc5-1eb5-4a6f-df66-b53f97df6be4"
      },
      "outputs": [
        {
          "data": {
            "image/png": "[encoded data removed]",
            "text/plain": [
              "<Figure size 640x480 with 1 Axes>"
            ]
          },
          "metadata": {},
          "output_type": "display_data"
        }
      ],
      "source": [
        "# creating calibration plots\n",
        "plt.plot(yaxis_train, xaxis_train, \"r-\",label=\"%s\" % ('train', ))\n",
        "plt.plot(yaxis_test, xaxis_test, \"g-\",label=\"%s\" % ('test', ))\n",
        "\n",
        "# setting title, legends, labels etc.\n",
        "plt.title('Calibration Curve')\n",
        "plt.ylabel ('Ratio of Positives')\n",
        "plt.xlabel('Average Predicted Probability in each bin')\n",
        "plt.plot([0, 1], [0, 1], \"k--\", label=\"Ideal Calibration\")\n",
        "plt.ylim([-0.05, 1.05])\n",
        "plt.legend(loc=\"lower right\")\n",
        "plt.tight_layout()\n",
        "plt.show()"
      ]
    },
    {
      "cell_type": "code",
      "execution_count": null,
      "id": "6d35b62a-e30e-4502-be38-5cd86495fa9f",
      "metadata": {
        "id": "6d35b62a-e30e-4502-be38-5cd86495fa9f",
        "outputId": "8baf9e67-1bcc-4f7b-b39f-0767437b92ed"
      },
      "outputs": [
        {
          "name": "stdout",
          "output_type": "stream",
          "text": [
            "range of predicted probability in train data: 0.0 to 0.44\n",
            "range of predicted probability in test data: 0.0 to 0.38\n"
          ]
        }
      ],
      "source": [
        "\"\"\"\n",
        "The calibration curve also indicates the predicted probabilities are not well distributed,\n",
        "with the maximum predicted probability for training data tapering off at around 50%,\n",
        "while for the test, it’s just at around 40%.\n",
        "\n",
        "However, this should not be a problem as it is to be expected because you are dealing with\n",
        "imbalanced class data that impacts the estimate of the model intercept, causing the probabilities to skew.\n",
        "You should be good if you keep this information in mind when converting the probabilities into classes.\n",
        "\"\"\"\n",
        "print('range of predicted probability in train data: {} to {}'.\\\n",
        "format(round(min(train_scores.y_prob),2),round(max(train_scores.y_prob),2))\n",
        ")\n",
        "print('range of predicted probability in test data: {} to {}'.\\\n",
        "format(round(min(test_scores.y_prob),2),round(max(test_scores.y_prob),2))\n",
        ")"
      ]
    },
    {
      "cell_type": "code",
      "execution_count": null,
      "id": "2c4df7d9-f2eb-459f-83fe-c62df01d9b72",
      "metadata": {
        "id": "2c4df7d9-f2eb-459f-83fe-c62df01d9b72",
        "outputId": "19c744eb-3e79-4481-956d-894c6bbcc173"
      },
      "outputs": [
        {
          "data": {
            "text/plain": [
              "'\\nThe next important method to evaluate the logistic regression model is decile analysis. The predicted probabilities \\nare sorted into ten equal groups (deciles). The proportion of actual positives (y_true==1) is then calculated in \\neach decile and plotted on the y-axis, with the decile number on the x-axis.\\nIdeally, such a graph should follow a staircase pattern, i.e., the number of captured positive labels is high \\nfor higher deciles (i.e., where the predicted probability is high), and this ratio of positives should gradually\\ncome down as you move down the deciles.\\n\\nFortunately, in your case, you do see a staircase-like pattern for both train and test.\\n'"
            ]
          },
          "execution_count": 77,
          "metadata": {},
          "output_type": "execute_result"
        }
      ],
      "source": [
        "#Decile Analysis\n",
        "\"\"\"\n",
        "The next important method to evaluate the logistic regression model is decile analysis. The predicted probabilities\n",
        "are sorted into ten equal groups (deciles). The proportion of actual positives (y_true==1) is then calculated in\n",
        "each decile and plotted on the y-axis, with the decile number on the x-axis.\n",
        "Ideally, such a graph should follow a staircase pattern, i.e., the number of captured positive labels is high\n",
        "for higher deciles (i.e., where the predicted probability is high), and this ratio of positives should gradually\n",
        "come down as you move down the deciles.\n",
        "\n",
        "Fortunately, in your case, you do see a staircase-like pattern for both train and test.\n",
        "\"\"\"\n"
      ]
    },
    {
      "cell_type": "code",
      "execution_count": null,
      "id": "92722187-08ad-45cb-8c2d-11fb5e276d9f",
      "metadata": {
        "id": "92722187-08ad-45cb-8c2d-11fb5e276d9f",
        "outputId": "6c7ac5f1-14ff-482d-b4bc-266961985061"
      },
      "outputs": [
        {
          "data": {
            "image/png": "[encoded data removed]",
            "text/plain": [
              "<Figure size 700x350 with 1 Axes>"
            ]
          },
          "metadata": {},
          "output_type": "display_data"
        }
      ],
      "source": [
        "# saving data for decile plot using train data\n",
        "cr_train, _ = calibration_curve(train_scores.y_true, train_scores.y_prob,\n",
        "n_bins = 10,\n",
        "strategy='quantile')\n",
        "\n",
        "# saving data for decile plot using test data\n",
        "cr_test, _ = calibration_curve(test_scores.y_true, test_scores.y_prob,\n",
        "n_bins = 10,\n",
        "strategy='quantile')\n",
        "\n",
        "# creating dataframe to compare the decile data train vs. test\n",
        "decile_comparison = pd.concat([pd.Series(np.flip(np.arange(1,11)),name='decile'),\n",
        "pd.Series(cr_train, name='train'),\n",
        "pd.Series(cr_test, name = 'test')],axis=1)\n",
        "\n",
        "# sorting the data by decile\n",
        "decile_comparison = decile_comparison.sort_values(by='decile')\n",
        "decile_comparison = decile_comparison.reset_index(drop = True)\n",
        "\n",
        "# making the decile lables to be 10 to 1\n",
        "decile_comparison.decile = np.flip(np.arange(1,11))\n",
        "\n",
        "# creating decile plot\n",
        "decile_comparison.plot.bar(x='decile', stacked=False,\n",
        "subplots=False, figsize=(7,3.5), color=['r','g'])\n",
        "\n",
        "# setting title, lavbels etc.\n",
        "plt.title('Decile Analysis')\n",
        "plt.xlabel('Decile')\n",
        "plt.ylabel('Proportion of Actual Positives')\n",
        "plt.xticks(rotation='horizontal')\n",
        "import matplotlib.ticker as mtick\n",
        "plt.gca().yaxis.set_major_formatter(mtick.PercentFormatter(xmax=1.0))\n",
        "plt.show()"
      ]
    },
    {
      "cell_type": "code",
      "execution_count": null,
      "id": "1f66f1c8-0905-4669-b1dc-f2df1eac8f2f",
      "metadata": {
        "id": "1f66f1c8-0905-4669-b1dc-f2df1eac8f2f"
      },
      "outputs": [],
      "source": []
    }
  ],
  "metadata": {
    "kernelspec": {
      "display_name": "Python 3 (ipykernel)",
      "language": "python",
      "name": "python3"
    },
    "language_info": {
      "codemirror_mode": {
        "name": "ipython",
        "version": 3
      },
      "file_extension": ".py",
      "mimetype": "text/x-python",
      "name": "python",
      "nbconvert_exporter": "python",
      "pygments_lexer": "ipython3",
      "version": "3.12.2"
    },
    "colab": {
      "provenance": [],
      "include_colab_link": true
    }
  },
  "nbformat": 4,
  "nbformat_minor": 5
}